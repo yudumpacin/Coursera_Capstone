{
  "nbformat": 4,
  "nbformat_minor": 0,
  "metadata": {
    "colab": {
      "name": "Untitled13.ipynb",
      "provenance": [],
      "collapsed_sections": []
    },
    "kernelspec": {
      "name": "python3",
      "display_name": "Python 3"
    },
    "language_info": {
      "name": "python"
    }
  },
  "cells": [
    {
      "cell_type": "markdown",
      "metadata": {
        "id": "q-XXKoAxsG6a"
      },
      "source": [
        "## Clustering Neighborhoods in Istanbul\n",
        "\n",
        "---\n",
        "\n"
      ]
    },
    {
      "cell_type": "markdown",
      "metadata": {
        "id": "Vsbb7Guyr3Ck"
      },
      "source": [
        "# Introduction/Business Problem"
      ]
    },
    {
      "cell_type": "markdown",
      "metadata": {
        "id": "vc7ibu51f8Bh"
      },
      "source": [
        "İstanbul is the largest city of Turkey, with over 15 million residents. It is also, the world's largest fifteenth city. The high population rate is the result of having more economical, cultural and social opportunities than the rest of the country, but this also brings some struggles for residents of the city. One of them is finding an appropriate house. Location of the house is very important for the home seekers, in terms of its nearness to places like public transportation hubs, schools, hospitals, etc.\n",
        "\n",
        "In this project, finding the best neighboorhood for a houseseeker in İstanbul is examined by location based features. Other than the location, price, m2 of house are also important features, but in this project only location features are examined. "
      ]
    },
    {
      "cell_type": "markdown",
      "metadata": {
        "id": "RG3i0mTfoU-T"
      },
      "source": [
        "# Data "
      ]
    },
    {
      "cell_type": "markdown",
      "metadata": {
        "id": "SbY26nEyoZkX"
      },
      "source": [
        "In this project, data sources which are used as follow;\n",
        "\n",
        "\n",
        "\n",
        "1.   Neighboorhood list of İstanbul from [Wikipedia](https://en.wikipedia.org/wiki/List_of_neighbourhoods_of_Istanbul)\n",
        "\n",
        "2.   Foursquare, Venue Data for each neighboorhood. Venue data, that will be used are\n",
        "          *   Latitude & Langtitude of the venue\n",
        "          *   Category of the venue"
      ]
    }
  ]
}
